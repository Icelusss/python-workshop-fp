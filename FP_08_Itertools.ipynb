{
 "cells": [
  {
   "cell_type": "markdown",
   "id": "cc11512c",
   "metadata": {},
   "source": [
    "# Itertools\n",
    "\n",
    "- `product`\n",
    "- `starmap`"
   ]
  },
  {
   "cell_type": "code",
   "execution_count": 1,
   "id": "d026abce",
   "metadata": {},
   "outputs": [],
   "source": [
    "from itertools import product, starmap"
   ]
  },
  {
   "cell_type": "markdown",
   "id": "5de6ca09",
   "metadata": {},
   "source": [
    "## Collections\n",
    "- `namedtuple`\n",
    "- `Counter`"
   ]
  },
  {
   "cell_type": "code",
   "execution_count": 2,
   "id": "fe5f8ec4",
   "metadata": {},
   "outputs": [],
   "source": [
    "from collections import Counter, namedtuple"
   ]
  },
  {
   "cell_type": "code",
   "execution_count": null,
   "id": "a9b35957",
   "metadata": {},
   "outputs": [],
   "source": []
  }
 ],
 "metadata": {
  "kernelspec": {
   "display_name": "Python 3",
   "language": "python",
   "name": "python3"
  },
  "language_info": {
   "codemirror_mode": {
    "name": "ipython",
    "version": 3
   },
   "file_extension": ".py",
   "mimetype": "text/x-python",
   "name": "python",
   "nbconvert_exporter": "python",
   "pygments_lexer": "ipython3",
   "version": "3.12.1"
  }
 },
 "nbformat": 4,
 "nbformat_minor": 5
}

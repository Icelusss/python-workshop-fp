{
 "cells": [
  {
   "cell_type": "code",
   "execution_count": 3,
   "id": "238a03c7",
   "metadata": {},
   "outputs": [],
   "source": [
    "import numba\n",
    "import numpy as np"
   ]
  },
  {
   "cell_type": "code",
   "execution_count": 4,
   "id": "f7a8b525",
   "metadata": {},
   "outputs": [],
   "source": [
    "@numba.jit\n",
    "def cosine_distance(a: np.array) -> np.array:\n",
    "    return np.cos(a)"
   ]
  },
  {
   "cell_type": "code",
   "execution_count": 47,
   "id": "0bd971c0",
   "metadata": {},
   "outputs": [
    {
     "name": "stdout",
     "output_type": "stream",
     "text": [
      "CPU times: user 13.3 ms, sys: 938 μs, total: 14.2 ms\n",
      "Wall time: 15.6 ms\n"
     ]
    },
    {
     "data": {
      "text/plain": [
       "array([0.54030231, 0.54030231, 0.54030231, ..., 0.54030231, 0.54030231,\n",
       "       0.54030231], shape=(1000000,))"
      ]
     },
     "execution_count": 47,
     "metadata": {},
     "output_type": "execute_result"
    }
   ],
   "source": [
    "%%time  \n",
    "cosine_distance(np.ones(1_000_000))"
   ]
  },
  {
   "cell_type": "code",
   "execution_count": 48,
   "id": "6f1f89d9",
   "metadata": {},
   "outputs": [
    {
     "name": "stdout",
     "output_type": "stream",
     "text": [
      "CPU times: user 12 ms, sys: 6.65 ms, total: 18.6 ms\n",
      "Wall time: 20.4 ms\n"
     ]
    },
    {
     "data": {
      "text/plain": [
       "array([0.54030231, 0.54030231, 0.54030231, ..., 0.54030231, 0.54030231,\n",
       "       0.54030231], shape=(1000000,))"
      ]
     },
     "execution_count": 48,
     "metadata": {},
     "output_type": "execute_result"
    }
   ],
   "source": [
    "%%time \n",
    "np.cos(np.ones(1_000_000))"
   ]
  },
  {
   "cell_type": "code",
   "execution_count": null,
   "id": "cd310a4e",
   "metadata": {},
   "outputs": [],
   "source": []
  }
 ],
 "metadata": {
  "kernelspec": {
   "display_name": "Python 3",
   "language": "python",
   "name": "python3"
  },
  "language_info": {
   "codemirror_mode": {
    "name": "ipython",
    "version": 3
   },
   "file_extension": ".py",
   "mimetype": "text/x-python",
   "name": "python",
   "nbconvert_exporter": "python",
   "pygments_lexer": "ipython3",
   "version": "3.12.1"
  }
 },
 "nbformat": 4,
 "nbformat_minor": 5
}

{
 "cells": [
  {
   "cell_type": "markdown",
   "id": "4bb6e4c8",
   "metadata": {},
   "source": [
    "# Functools\n",
    "\n",
    "- `reduce`\n",
    "- `partial`"
   ]
  },
  {
   "cell_type": "code",
   "execution_count": 2,
   "id": "8d27ae95",
   "metadata": {},
   "outputs": [],
   "source": [
    "from functools import reduce, partial"
   ]
  },
  {
   "cell_type": "code",
   "execution_count": 3,
   "id": "01ca7dc8",
   "metadata": {},
   "outputs": [],
   "source": [
    "_log = partial(print, \"Hello:\")"
   ]
  },
  {
   "cell_type": "code",
   "execution_count": 4,
   "id": "434a584a",
   "metadata": {},
   "outputs": [
    {
     "name": "stdout",
     "output_type": "stream",
     "text": [
      "Hello: test\n"
     ]
    }
   ],
   "source": [
    "_log(\"test\")"
   ]
  },
  {
   "cell_type": "code",
   "execution_count": null,
   "id": "bcff01b5",
   "metadata": {},
   "outputs": [],
   "source": []
  }
 ],
 "metadata": {
  "kernelspec": {
   "display_name": "Python 3",
   "language": "python",
   "name": "python3"
  },
  "language_info": {
   "codemirror_mode": {
    "name": "ipython",
    "version": 3
   },
   "file_extension": ".py",
   "mimetype": "text/x-python",
   "name": "python",
   "nbconvert_exporter": "python",
   "pygments_lexer": "ipython3",
   "version": "3.12.1"
  }
 },
 "nbformat": 4,
 "nbformat_minor": 5
}

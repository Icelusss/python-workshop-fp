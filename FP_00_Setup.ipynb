{
 "cells": [
  {
   "cell_type": "code",
   "execution_count": 1,
   "id": "fb16f9be",
   "metadata": {},
   "outputs": [],
   "source": [
    "%%capture\n",
    "%pip install --upgrade pip toolz matplotlib sympy"
   ]
  },
  {
   "cell_type": "markdown",
   "id": "a12baadc",
   "metadata": {},
   "source": [
    "# Libraries\n",
    "\n",
    "- `toolz` is a package for functional programming primitives and functions in python, and is zero dependency lightweight package\n",
    "- `matplotlib` plotting and visualization library that allows us to display charts, or any type of visualization\n",
    "- `sympy` symbolic representation and evaluation of expressions, mathematical, logical, or other.\n",
    "\n",
    "\n",
    "## SubHeader\n",
    "\n",
    "### Sub-sub-header\n",
    "1. One\n",
    "1. Two\n",
    "1. Three\n",
    "\n",
    "\n",
    "> Blocquote\n",
    "> Describe here __bold__ ~~crossed~~ _italic_\n",
    "\n",
    "- [Data Types](FP_01_Data_Types.ipynb)"
   ]
  },
  {
   "cell_type": "code",
   "execution_count": null,
   "id": "3175bd24",
   "metadata": {},
   "outputs": [],
   "source": []
  }
 ],
 "metadata": {
  "kernelspec": {
   "display_name": "Python 3",
   "language": "python",
   "name": "python3"
  },
  "language_info": {
   "codemirror_mode": {
    "name": "ipython",
    "version": 3
   },
   "file_extension": ".py",
   "mimetype": "text/x-python",
   "name": "python",
   "nbconvert_exporter": "python",
   "pygments_lexer": "ipython3",
   "version": "3.12.1"
  }
 },
 "nbformat": 4,
 "nbformat_minor": 5
}

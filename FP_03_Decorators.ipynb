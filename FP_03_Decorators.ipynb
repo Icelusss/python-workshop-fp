{
 "cells": [
  {
   "cell_type": "markdown",
   "id": "81fee495",
   "metadata": {},
   "source": [
    "# Decorators\n",
    "\n",
    "Functions that wrap other functions adding behavior\n",
    "- Implemented just a function returning another function\n",
    "- Use `functools.wraps` to enable the docstrings to be respected\n",
    "\n",
    "\n",
    "## Aid:\n",
    "```python\n",
    "def deco(func):\n",
    "    def _inner(*args, **kwargs):\n",
    "        print(\"Before\")\n",
    "        func(args, kwargs)\n",
    "        print(\"After\")\n",
    "    return _inner\n",
    "```"
   ]
  }
 ],
 "metadata": {
  "language_info": {
   "name": "python"
  }
 },
 "nbformat": 4,
 "nbformat_minor": 5
}

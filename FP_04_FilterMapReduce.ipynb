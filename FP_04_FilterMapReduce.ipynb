{
 "cells": [
  {
   "cell_type": "markdown",
   "id": "6ea18311",
   "metadata": {},
   "source": [
    "# Filter, Map, Reduce\n",
    "\n",
    "Apply the fundamental concepts for composition\n",
    "- Use `filter` and `filterfalse` as predicates for target transforms\n",
    "- Use `map` and `lambda` to apply functions to collections\n",
    "- Use `functools.reduce` to recursively perform an operation\n",
    "\n",
    "\n",
    "## Aid\n",
    "```python\n",
    "# Filter odd numbers\n",
    "odds = filter(lambda x: x % 2, range(10))\n",
    "\n",
    "# Make odd numbers even\n",
    "even = map(lambda x: x*2, odds)\n",
    "\n",
    "# Sum all\n",
    "from operator import add\n",
    "map(add, even)\n",
    "```\n",
    "\n",
    "> __Remember:__ <br>\n",
    "> _Keep it simple_, and likely there is a function that does it `Σ`"
   ]
  },
  {
   "cell_type": "code",
   "execution_count": 10,
   "id": "68e9d0ca",
   "metadata": {},
   "outputs": [],
   "source": [
    "odds = filter(lambda x: x % 2, range(10))"
   ]
  },
  {
   "cell_type": "code",
   "execution_count": 11,
   "id": "efe449f4",
   "metadata": {},
   "outputs": [],
   "source": [
    "evens = list(map(lambda x: x * 2, odds))"
   ]
  },
  {
   "cell_type": "code",
   "execution_count": 12,
   "id": "f3752107",
   "metadata": {},
   "outputs": [
    {
     "data": {
      "text/plain": [
       "50"
      ]
     },
     "execution_count": 12,
     "metadata": {},
     "output_type": "execute_result"
    }
   ],
   "source": [
    "from operator import add\n",
    "from functools import reduce\n",
    "reduce(add, evens, 0)"
   ]
  },
  {
   "cell_type": "code",
   "execution_count": null,
   "id": "c069529f",
   "metadata": {},
   "outputs": [],
   "source": []
  }
 ],
 "metadata": {
  "kernelspec": {
   "display_name": "Python 3",
   "language": "python",
   "name": "python3"
  },
  "language_info": {
   "codemirror_mode": {
    "name": "ipython",
    "version": 3
   },
   "file_extension": ".py",
   "mimetype": "text/x-python",
   "name": "python",
   "nbconvert_exporter": "python",
   "pygments_lexer": "ipython3",
   "version": "3.12.1"
  }
 },
 "nbformat": 4,
 "nbformat_minor": 5
}

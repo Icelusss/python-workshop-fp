{
 "cells": [
  {
   "cell_type": "markdown",
   "id": "70a88eca",
   "metadata": {},
   "source": [
    "# Compose and Curry\n",
    "\n",
    "Composition is the art of chaining function calls for a desire outcome\n",
    "Suppose the following functions\n",
    "\n",
    "- $f(x): x + 2$\n",
    "- $g(x): x * 10$\n",
    "- $h(x): x / 5$\n",
    "\n",
    "## Aid\n",
    "```python\n",
    "\n",
    "_f = lambda x: x + 2\n",
    "_g = lambda x: x * 10\n",
    "_h = lambda x: x / 5\n",
    "\n",
    "from toolz import compose\n",
    "_z = compose(_h, _g, _f)\n",
    "\n",
    "list(map(_z, range(10)))\n",
    "```\n",
    "\n",
    "> __Alternative:__ $ (x + 2)\\frac{10}{5} $"
   ]
  },
  {
   "cell_type": "code",
   "execution_count": 6,
   "id": "45b9b803",
   "metadata": {},
   "outputs": [
    {
     "data": {
      "text/plain": [
       "[4.0, 6.0, 8.0, 10.0, 12.0, 14.0, 16.0, 18.0, 20.0, 22.0]"
      ]
     },
     "execution_count": 6,
     "metadata": {},
     "output_type": "execute_result"
    }
   ],
   "source": [
    "_f = lambda x: x + 2\n",
    "_g = lambda x: x * 10\n",
    "_h = lambda x: x / 5\n",
    "\n",
    "from toolz import compose\n",
    "_z = compose(_h, _g, _f)\n",
    "\n",
    "list(map(_z, range(10)))"
   ]
  },
  {
   "cell_type": "code",
   "execution_count": null,
   "id": "a8a6dbf6",
   "metadata": {},
   "outputs": [],
   "source": []
  }
 ],
 "metadata": {
  "kernelspec": {
   "display_name": "Python 3",
   "language": "python",
   "name": "python3"
  },
  "language_info": {
   "codemirror_mode": {
    "name": "ipython",
    "version": 3
   },
   "file_extension": ".py",
   "mimetype": "text/x-python",
   "name": "python",
   "nbconvert_exporter": "python",
   "pygments_lexer": "ipython3",
   "version": "3.12.1"
  }
 },
 "nbformat": 4,
 "nbformat_minor": 5
}

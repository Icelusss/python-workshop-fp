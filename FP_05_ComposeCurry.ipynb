{
 "cells": [
  {
   "cell_type": "markdown",
   "id": "70a88eca",
   "metadata": {},
   "source": [
    "# Compose\n",
    "\n",
    "Composition is the art of chaining function calls for a desire outcome\n",
    "Suppose the following functions\n",
    "\n",
    "- $f(x): x + 2$\n",
    "- $g(x): x * 10$\n",
    "- $h(x): x / 5$\n",
    "\n",
    "## Aid\n",
    "```python\n",
    "\n",
    "_f = lambda x: x + 2\n",
    "_g = lambda x: x * 10\n",
    "_h = lambda x: x / 5\n",
    "\n",
    "from toolz import compose\n",
    "_z = compose(_h, _g, _f)\n",
    "\n",
    "list(map(_z, range(10)))\n",
    "```\n",
    "\n",
    "> __Alternative:__ $ (x + 2)\\frac{10}{5} $\n",
    "\n",
    "\n",
    "# Curry\n",
    "\n",
    "Breaking a function that takes multiple arguments into a series of functions that take `n` arguments\n",
    "\n",
    "```python\n",
    "from toolz import curry\n",
    "\n",
    "@curry\n",
    "def mysum(x,y):\n",
    "    return x + y\n",
    "\n",
    "mysum(5,5)\n",
    "\n",
    "# What happen with: \n",
    "# mysum(5)\n",
    "\n",
    "```\n"
   ]
  },
  {
   "cell_type": "code",
   "execution_count": 80,
   "id": "2ea33b83",
   "metadata": {},
   "outputs": [],
   "source": [
    "data = [\n",
    "    {\"MX\" : \"111-222-333\"},\n",
    "    {\"MX\" : \"444-555-666\"},\n",
    "    {\"NL\" : \"999-000-000\"},\n",
    "    {\"FR\" : \"555-555-555\"}\n",
    "]"
   ]
  },
  {
   "cell_type": "markdown",
   "id": "47a33ea9",
   "metadata": {},
   "source": [
    "I want to:\n",
    "- Filter numbers from `MX` Mexico\n",
    "- Replace all `-` by dots `.`\n",
    "- Prepend country code `+52.` to the numbers"
   ]
  },
  {
   "cell_type": "code",
   "execution_count": 81,
   "id": "8b70d8c8",
   "metadata": {},
   "outputs": [
    {
     "data": {
      "text/plain": [
       "[{'MX': '111-222-333'},\n",
       " {'MX': '444-555-666'},\n",
       " {'NL': '999-000-000'},\n",
       " {'FR': '555-555-555'}]"
      ]
     },
     "execution_count": 81,
     "metadata": {},
     "output_type": "execute_result"
    }
   ],
   "source": [
    "data"
   ]
  },
  {
   "cell_type": "code",
   "execution_count": 82,
   "id": "6c626039",
   "metadata": {},
   "outputs": [
    {
     "data": {
      "text/plain": [
       "[{'MX': '+52.111.222.333'}, {'MX': '+52.444.555.666'}]"
      ]
     },
     "execution_count": 82,
     "metadata": {},
     "output_type": "execute_result"
    }
   ],
   "source": [
    "new_phones = []\n",
    "for d in data:\n",
    "    for k,v in d.items():\n",
    "        if k == \"MX\":\n",
    "            new_phone = \"+52.\" + v.replace(\"-\", \".\")\n",
    "            new_phones.append({\"MX\" : new_phone})\n",
    "\n",
    "new_phones\n"
   ]
  },
  {
   "cell_type": "code",
   "execution_count": 93,
   "id": "fa4972c5",
   "metadata": {},
   "outputs": [],
   "source": [
    "from toolz import curried as C\n",
    "from toolz import compose\n",
    "from operator import add\n",
    "from functools import partial\n",
    "from operator import eq\n",
    "\n",
    "_is_mx = C.keyfilter(partial(eq, 'MX'))\n",
    "_dot = lambda x: x.replace(\"-\", \".\")\n",
    "_code = partial(add, \"+52.\")\n",
    "_fix_number = C.valmap(compose(_code, _dot))"
   ]
  },
  {
   "cell_type": "code",
   "execution_count": 94,
   "id": "97bf81b3",
   "metadata": {},
   "outputs": [
    {
     "data": {
      "text/plain": [
       "[{'MX': '+52.111.222.333'}, {'MX': '+52.444.555.666'}]"
      ]
     },
     "execution_count": 94,
     "metadata": {},
     "output_type": "execute_result"
    }
   ],
   "source": [
    "list(map(_fix_number, filter(_is_mx, data)))"
   ]
  },
  {
   "cell_type": "code",
   "execution_count": null,
   "id": "992e4f55",
   "metadata": {},
   "outputs": [],
   "source": []
  }
 ],
 "metadata": {
  "kernelspec": {
   "display_name": "Python 3",
   "language": "python",
   "name": "python3"
  },
  "language_info": {
   "codemirror_mode": {
    "name": "ipython",
    "version": 3
   },
   "file_extension": ".py",
   "mimetype": "text/x-python",
   "name": "python",
   "nbconvert_exporter": "python",
   "pygments_lexer": "ipython3",
   "version": "3.12.1"
  }
 },
 "nbformat": 4,
 "nbformat_minor": 5
}

{
  "nbformat": 4,
  "nbformat_minor": 0,
  "metadata": {
    "colab": {
      "provenance": [],
      "mount_file_id": "1eg1nFg0BLNPMzUWqP3TjsY7c7p006_xz",
      "authorship_tag": "ABX9TyMYs/alLArYnxxR72uEOS7z",
      "include_colab_link": true
    },
    "kernelspec": {
      "name": "python3",
      "display_name": "Python 3"
    },
    "language_info": {
      "name": "python"
    }
  },
  "cells": [
    {
      "cell_type": "markdown",
      "metadata": {
        "id": "view-in-github",
        "colab_type": "text"
      },
      "source": [
        "<a href=\"https://colab.research.google.com/github/canimus/python-workshop-fp/blob/main/FP_01_Data_Types.ipynb\" target=\"_parent\"><img src=\"https://colab.research.google.com/assets/colab-badge.svg\" alt=\"Open In Colab\"/></a>"
      ]
    },
    {
      "cell_type": "markdown",
      "source": [
        "# Data Types\n",
        "Familiarize with the native data types in `python` by trying the following commands. Run each on a new cell:\n",
        "- `type(1)`\n",
        "- `type(1.0)`\n",
        "- `type([1,2,3])`\n",
        "- `type({1,2,3})`\n",
        "- `type((1,2))`\n",
        "- `type({\"a\":1,\"b\":2})`\n",
        "- `type(2+3j)`"
      ],
      "metadata": {
        "id": "l5CIG9-ul7J6"
      }
    }
  ]
}
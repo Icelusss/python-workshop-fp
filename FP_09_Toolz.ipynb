{
 "cells": [
  {
   "cell_type": "markdown",
   "id": "9f26a753",
   "metadata": {},
   "source": [
    "# Toolz\n",
    "\n",
    "## Maps\n",
    "- `keyfilter`\n",
    "- `keymap`\n",
    "- `valfilter`\n",
    "- `valmap`\n",
    "- `pluck`\n",
    "\n",
    "## Functions\n",
    "- `compose`\n",
    "- `flip`\n",
    "- `juxt`\n",
    "- `do`"
   ]
  },
  {
   "cell_type": "code",
   "execution_count": 3,
   "id": "a6354677",
   "metadata": {},
   "outputs": [
    {
     "data": {
      "text/plain": [
       "{'a': 10, 'b': 20, 'c': 30}"
      ]
     },
     "execution_count": 3,
     "metadata": {},
     "output_type": "execute_result"
    }
   ],
   "source": [
    "d = {\"a\" : 10, \"b\" : 20, \"c\" : 30}\n",
    "d"
   ]
  },
  {
   "cell_type": "code",
   "execution_count": 4,
   "id": "795f0a7e",
   "metadata": {},
   "outputs": [],
   "source": [
    "from toolz import keyfilter, valfilter, valmap, keymap"
   ]
  },
  {
   "cell_type": "code",
   "execution_count": 5,
   "id": "adeec52c",
   "metadata": {},
   "outputs": [
    {
     "data": {
      "text/plain": [
       "{'a': 10}"
      ]
     },
     "execution_count": 5,
     "metadata": {},
     "output_type": "execute_result"
    }
   ],
   "source": [
    "_a_filter = lambda x: x == \"a\"\n",
    "keyfilter(_a_filter, d)"
   ]
  },
  {
   "cell_type": "code",
   "execution_count": 6,
   "id": "64296150",
   "metadata": {},
   "outputs": [
    {
     "data": {
      "text/plain": [
       "{'[a]': 10, '[b]': 20, '[c]': 30}"
      ]
     },
     "execution_count": 6,
     "metadata": {},
     "output_type": "execute_result"
    }
   ],
   "source": [
    "keymap(lambda x: \"[\" + x + \"]\", d)"
   ]
  },
  {
   "cell_type": "code",
   "execution_count": 7,
   "id": "ae128fa0",
   "metadata": {},
   "outputs": [
    {
     "data": {
      "text/plain": [
       "{'b': 20, 'c': 30}"
      ]
     },
     "execution_count": 7,
     "metadata": {},
     "output_type": "execute_result"
    }
   ],
   "source": [
    "valfilter(lambda x: x>10, d)"
   ]
  },
  {
   "cell_type": "code",
   "execution_count": 8,
   "id": "1f46508d",
   "metadata": {},
   "outputs": [
    {
     "data": {
      "text/plain": [
       "{'a': 100, 'b': 200, 'c': 300}"
      ]
     },
     "execution_count": 8,
     "metadata": {},
     "output_type": "execute_result"
    }
   ],
   "source": [
    "valmap(lambda x: x * 10, d)"
   ]
  },
  {
   "cell_type": "code",
   "execution_count": 9,
   "id": "dd608d03",
   "metadata": {},
   "outputs": [],
   "source": [
    "d = [{\"name\" : \"John\", \"last_name\" : \"Smith\"}, {\"name\" : \"Peter\", \"last_name\": \"Jones\"}]"
   ]
  },
  {
   "cell_type": "code",
   "execution_count": 15,
   "id": "a2ba297c",
   "metadata": {},
   "outputs": [
    {
     "data": {
      "text/plain": [
       "[Person(name='John', last_name='Smith'),\n",
       " Person(name='Peter', last_name='Jones')]"
      ]
     },
     "execution_count": 15,
     "metadata": {},
     "output_type": "execute_result"
    }
   ],
   "source": [
    "from toolz import pluck\n",
    "from collections import namedtuple\n",
    "from itertools import starmap\n",
    "Person = namedtuple(\"Person\", \"name,last_name\")\n",
    "list(starmap(Person, pluck([\"name\", \"last_name\"], d)))"
   ]
  },
  {
   "cell_type": "code",
   "execution_count": 19,
   "id": "aa89438f",
   "metadata": {},
   "outputs": [],
   "source": [
    "from operator import itemgetter as it\n",
    "from toolz import juxt, compose"
   ]
  },
  {
   "cell_type": "code",
   "execution_count": 24,
   "id": "68b97879",
   "metadata": {},
   "outputs": [
    {
     "data": {
      "text/plain": [
       "[('John', 'Smith'), ('Peter', 'Jones')]"
      ]
     },
     "execution_count": 24,
     "metadata": {},
     "output_type": "execute_result"
    }
   ],
   "source": [
    "list(map(juxt(it(\"name\"), it(\"last_name\")), d))"
   ]
  },
  {
   "cell_type": "code",
   "execution_count": 26,
   "id": "b0cf2ec1",
   "metadata": {},
   "outputs": [],
   "source": [
    "y = [10, 20, 30]"
   ]
  },
  {
   "cell_type": "code",
   "execution_count": 34,
   "id": "f2ef938b",
   "metadata": {},
   "outputs": [
    {
     "data": {
      "text/plain": [
       "Point(x=20, y=1000)"
      ]
     },
     "execution_count": 34,
     "metadata": {},
     "output_type": "execute_result"
    }
   ],
   "source": [
    "Point = namedtuple(\"Point\", \"x,y\")\n",
    "Point(*juxt([lambda x: x+10, lambda x: x * 100])(10))"
   ]
  },
  {
   "cell_type": "code",
   "execution_count": null,
   "metadata": {},
   "outputs": [],
   "source": []
  },
  {
   "cell_type": "code",
   "execution_count": null,
   "metadata": {},
   "outputs": [],
   "source": []
  },
  {
   "cell_type": "code",
   "execution_count": 21,
   "id": "a7ad53a8",
   "metadata": {},
   "outputs": [],
   "source": [
    "from operator import itemgetter as it\n",
    "from toolz import compose, juxt, pluck"
   ]
  },
  {
   "cell_type": "code",
   "execution_count": 18,
   "id": "f95108f0",
   "metadata": {},
   "outputs": [],
   "source": [
    "_c = compose(juxt([it(\"name\"), it(\"last_name\")]))"
   ]
  },
  {
   "cell_type": "code",
   "execution_count": 19,
   "id": "970ae57e",
   "metadata": {},
   "outputs": [
    {
     "data": {
      "text/plain": [
       "[('John', 'Smith'), ('Peter', 'Jones')]"
      ]
     },
     "execution_count": 19,
     "metadata": {},
     "output_type": "execute_result"
    }
   ],
   "source": [
    "list(map(_c, d))"
   ]
  },
  {
   "cell_type": "code",
   "execution_count": 29,
   "id": "c598b44e",
   "metadata": {},
   "outputs": [
    {
     "name": "stdout",
     "output_type": "stream",
     "text": [
      "John Smith\n",
      "Peter Jones\n"
     ]
    }
   ],
   "source": [
    "for a,b in zip(pluck(\"name\", d), pluck(\"last_name\", d)):\n",
    "    print(a,b)"
   ]
  },
  {
   "cell_type": "code",
   "execution_count": null,
   "id": "be91d10d",
   "metadata": {},
   "outputs": [],
   "source": []
  }
 ],
 "metadata": {
  "kernelspec": {
   "display_name": "Python 3",
   "language": "python",
   "name": "python3"
  },
  "language_info": {
   "codemirror_mode": {
    "name": "ipython",
    "version": 3
   },
   "file_extension": ".py",
   "mimetype": "text/x-python",
   "name": "python",
   "nbconvert_exporter": "python",
   "pygments_lexer": "ipython3",
   "version": "3.12.1"
  }
 },
 "nbformat": 4,
 "nbformat_minor": 5
}

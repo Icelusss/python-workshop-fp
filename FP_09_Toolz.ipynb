{
 "cells": [
  {
   "cell_type": "markdown",
   "id": "9f26a753",
   "metadata": {},
   "source": [
    "# Toolz\n",
    "\n",
    "## Maps\n",
    "- `keyfilter`\n",
    "- `keymap`\n",
    "- `valfilter`\n",
    "- `valmap`\n",
    "- `pluck`\n",
    "\n",
    "## Functions\n",
    "- `compose`\n",
    "- `flip`\n",
    "- `juxt`\n",
    "- `do`"
   ]
  },
  {
   "cell_type": "code",
   "execution_count": 14,
   "id": "dd608d03",
   "metadata": {},
   "outputs": [],
   "source": [
    "d = [{\"name\" : \"John\", \"last_name\" : \"Smith\"}, {\"name\" : \"Peter\", \"last_name\": \"Jones\"}]"
   ]
  },
  {
   "cell_type": "code",
   "execution_count": 21,
   "id": "a7ad53a8",
   "metadata": {},
   "outputs": [],
   "source": [
    "from operator import itemgetter as it\n",
    "from toolz import compose, juxt, pluck"
   ]
  },
  {
   "cell_type": "code",
   "execution_count": 18,
   "id": "f95108f0",
   "metadata": {},
   "outputs": [],
   "source": [
    "_c = compose(juxt([it(\"name\"), it(\"last_name\")]))"
   ]
  },
  {
   "cell_type": "code",
   "execution_count": 19,
   "id": "970ae57e",
   "metadata": {},
   "outputs": [
    {
     "data": {
      "text/plain": [
       "[('John', 'Smith'), ('Peter', 'Jones')]"
      ]
     },
     "execution_count": 19,
     "metadata": {},
     "output_type": "execute_result"
    }
   ],
   "source": [
    "list(map(_c, d))"
   ]
  },
  {
   "cell_type": "code",
   "execution_count": 29,
   "id": "c598b44e",
   "metadata": {},
   "outputs": [
    {
     "name": "stdout",
     "output_type": "stream",
     "text": [
      "John Smith\n",
      "Peter Jones\n"
     ]
    }
   ],
   "source": [
    "for a,b in zip(pluck(\"name\", d), pluck(\"last_name\", d)):\n",
    "    print(a,b)"
   ]
  },
  {
   "cell_type": "code",
   "execution_count": null,
   "id": "be91d10d",
   "metadata": {},
   "outputs": [],
   "source": []
  }
 ],
 "metadata": {
  "kernelspec": {
   "display_name": "Python 3",
   "language": "python",
   "name": "python3"
  },
  "language_info": {
   "codemirror_mode": {
    "name": "ipython",
    "version": 3
   },
   "file_extension": ".py",
   "mimetype": "text/x-python",
   "name": "python",
   "nbconvert_exporter": "python",
   "pygments_lexer": "ipython3",
   "version": "3.12.1"
  }
 },
 "nbformat": 4,
 "nbformat_minor": 5
}

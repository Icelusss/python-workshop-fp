{
  "cells": [
    {
      "cell_type": "markdown",
      "metadata": {
        "colab_type": "text",
        "id": "view-in-github"
      },
      "source": [
        "<a href=\"https://colab.research.google.com/github/canimus/python-workshop-fp/blob/main/FP_02_Context_Managers.ipynb\" target=\"_parent\"><img src=\"https://colab.research.google.com/assets/colab-badge.svg\" alt=\"Open In Colab\"/></a>"
      ]
    },
    {
      "cell_type": "markdown",
      "metadata": {
        "id": "bjXHPLsp7ftb"
      },
      "source": [
        "# Context Managers\n",
        "\n",
        "\n",
        "- Use of the `__enter__` and `__exit__` methods for context manager behavior\n",
        "- Create a `class` that contains methods: `__enter__` and `__exit__`\n",
        "\n",
        "Aid:\n",
        "```python\n",
        "class ClassName:\n",
        "    def __enter__(self):\n",
        "        pass\n",
        "    def __exit__(self):\n",
        "        pass\n",
        "\n",
        "```"
      ]
    },
    {
      "cell_type": "code",
      "execution_count": 3,
      "metadata": {
        "id": "06juzQfDdlNA"
      },
      "outputs": [],
      "source": [
        "def test_fn():\n",
        "    return {\"a\" : 10}"
      ]
    },
    {
      "cell_type": "code",
      "execution_count": 4,
      "metadata": {},
      "outputs": [
        {
          "data": {
            "text/plain": [
              "{'a': 10}"
            ]
          },
          "execution_count": 4,
          "metadata": {},
          "output_type": "execute_result"
        }
      ],
      "source": [
        "test_fn()"
      ]
    },
    {
      "cell_type": "code",
      "execution_count": 21,
      "metadata": {},
      "outputs": [],
      "source": [
        "class Orange():\n",
        "    def peel(self):\n",
        "        print(\"peeling...\")\n",
        "        return self\n",
        "    \n",
        "    def squeeze(self):\n",
        "        print(\"squeeze...\")\n",
        "        return self\n",
        "\n",
        "    def __len__(self):\n",
        "        return 30"
      ]
    },
    {
      "cell_type": "code",
      "execution_count": null,
      "metadata": {},
      "outputs": [],
      "source": [
        "o = Orange()\n",
        "o.peel().squeeze();"
      ]
    },
    {
      "cell_type": "code",
      "execution_count": 29,
      "metadata": {},
      "outputs": [
        {
          "name": "stdout",
          "output_type": "stream",
          "text": [
            "Inside Context\n",
            "# python-workshop-fp\n",
            "Functional programming workshop and exercises\n",
            "\n",
            "## Day 1:\n",
            "- [Data Types](FP_01_Data_Types.ipynb)\n",
            "- [Context Managers](FP_02_Context_Managers.ipynb)\n",
            "Exit Context\n"
          ]
        }
      ],
      "source": [
        "with open(\"README.md\") as reader:\n",
        "    print(\"Inside Context\")\n",
        "    print(reader.read())\n",
        "    print(\"Exit Context\")"
      ]
    },
    {
      "cell_type": "code",
      "execution_count": 30,
      "metadata": {},
      "outputs": [],
      "source": [
        "class MyContext:\n",
        "    def __enter__(self):\n",
        "        print(\"Enter context\")\n",
        "\n",
        "    def __exit__(self):\n",
        "        print(\"Exit context\")"
      ]
    },
    {
      "cell_type": "markdown",
      "metadata": {},
      "source": [
        "Example of how it looks like to work or see a decorator\n",
        "\n",
        "```python\n",
        "\n",
        "@decorator\n",
        "def function():\n",
        "    print(\"body\")"
      ]
    }
  ],
  "metadata": {
    "colab": {
      "authorship_tag": "ABX9TyNMtocjeRIYCFNRzVJym1sP",
      "include_colab_link": true,
      "provenance": []
    },
    "kernelspec": {
      "display_name": "Python 3",
      "name": "python3"
    },
    "language_info": {
      "codemirror_mode": {
        "name": "ipython",
        "version": 3
      },
      "file_extension": ".py",
      "mimetype": "text/x-python",
      "name": "python",
      "nbconvert_exporter": "python",
      "pygments_lexer": "ipython3",
      "version": "3.12.1"
    }
  },
  "nbformat": 4,
  "nbformat_minor": 0
}

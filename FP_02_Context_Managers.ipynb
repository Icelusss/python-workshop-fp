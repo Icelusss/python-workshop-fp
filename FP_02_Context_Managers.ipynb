{
  "nbformat": 4,
  "nbformat_minor": 0,
  "metadata": {
    "colab": {
      "provenance": [],
      "authorship_tag": "ABX9TyNMtocjeRIYCFNRzVJym1sP",
      "include_colab_link": true
    },
    "kernelspec": {
      "name": "python3",
      "display_name": "Python 3"
    },
    "language_info": {
      "name": "python"
    }
  },
  "cells": [
    {
      "cell_type": "markdown",
      "metadata": {
        "id": "view-in-github",
        "colab_type": "text"
      },
      "source": [
        "<a href=\"https://colab.research.google.com/github/canimus/python-workshop-fp/blob/main/FP_02_Context_Managers.ipynb\" target=\"_parent\"><img src=\"https://colab.research.google.com/assets/colab-badge.svg\" alt=\"Open In Colab\"/></a>"
      ]
    },
    {
      "cell_type": "markdown",
      "source": [
        "# Context Managers and Decorators\n",
        "\n",
        "\n",
        "- Use of the `__enter__` and `__exit__` methods for context manager behavior\n",
        "- Use of the function wrapping approach for composition"
      ],
      "metadata": {
        "id": "bjXHPLsp7ftb"
      }
    },
    {
      "cell_type": "code",
      "source": [],
      "metadata": {
        "id": "06juzQfDdlNA"
      },
      "execution_count": null,
      "outputs": []
    }
  ]
}